{
 "cells": [
  {
   "cell_type": "code",
   "execution_count": 1,
   "metadata": {},
   "outputs": [],
   "source": [
    "import tensorflow as tf\n",
    "import numpy as np\n",
    "import cv2\n",
    "import os\n",
    "import matplotlib.pyplot as plt\n",
    "from sklearn.metrics import f1_score, accuracy_score"
   ]
  },
  {
   "attachments": {},
   "cell_type": "markdown",
   "metadata": {},
   "source": [
    "Create model"
   ]
  },
  {
   "cell_type": "code",
   "execution_count": null,
   "metadata": {},
   "outputs": [],
   "source": [
    "# Define the model\n",
    "\n",
    "def create_model(input_shape):\n",
    "    inputs = tf.keras.Input(shape=input_shape)\n",
    "    \n",
    "    # First layer\n",
    "    conv1 = tf.keras.layers.Conv2D(filters=16, kernel_size=(3, 3), strides=(1, 1),kernel_regularizer=tf.keras.regularizers.l2(0.001) ,padding='valid')(inputs)\n",
    "    batchnorm1 = tf.keras.layers.BatchNormalization()(conv1)\n",
    "    relu1 = tf.keras.layers.ReLU()(batchnorm1)\n",
    "    maxpool1 = tf.keras.layers.MaxPooling2D(pool_size=(4, 4), strides=(4, 4), padding='same')(relu1)\n",
    "    \n",
    "    # Second layer\n",
    "    conv2 = tf.keras.layers.Conv2D(filters=32, kernel_size=(3, 3), strides=(1, 1),kernel_regularizer=tf.keras.regularizers.l2(0.001) ,padding='valid')(maxpool1)\n",
    "    batchnorm2 = tf.keras.layers.BatchNormalization()(conv2)\n",
    "    relu2 = tf.keras.layers.ReLU()(batchnorm2)\n",
    "    maxpool2 = tf.keras.layers.MaxPooling2D(pool_size=(2, 2), strides=(2, 2), padding='same')(relu2)\n",
    "    \n",
    "    # Third layer\n",
    "    conv3 = tf.keras.layers.Conv2D(filters=64, kernel_size=(3, 3), strides=(1, 1),kernel_regularizer=tf.keras.regularizers.l2(0.001), padding='valid')(maxpool2)\n",
    "    batchnorm3 = tf.keras.layers.BatchNormalization()(conv3)\n",
    "    relu3 = tf.keras.layers.ReLU()(batchnorm3)\n",
    "    avgpool = tf.keras.layers.AveragePooling2D(pool_size=(2, 2), strides=(2, 2), padding='same')(relu3)\n",
    "    \n",
    "    # Flatten the output of the last convolutional layer\n",
    "    flatten = tf.keras.layers.Flatten()(avgpool)\n",
    "    \n",
    "    # Fully connected layers\n",
    "    fc1 = tf.keras.layers.Dense(256, activation='relu',kernel_regularizer=tf.keras.regularizers.l2(0.001))(flatten)\n",
    "    fc2 = tf.keras.layers.Dense(256, activation='relu',kernel_regularizer=tf.keras.regularizers.l2(0.001))(fc1)\n",
    "\n",
    "    # Output layer (binary classification)\n",
    "    output = tf.keras.layers.Dense(1, activation='sigmoid')(fc2)\n",
    "    \n",
    "    # Create the model\n",
    "    model = tf.keras.Model(inputs=inputs, outputs=output)\n",
    "    return model\n",
    "\n",
    "# Example usage\n",
    "input_shape = (160, 160, 1)  \n",
    "\n",
    "model = create_model(input_shape)\n",
    "model.summary()"
   ]
  }
 ],
 "metadata": {
  "kernelspec": {
   "display_name": "okernel",
   "language": "python",
   "name": "okernel"
  },
  "language_info": {
   "codemirror_mode": {
    "name": "ipython",
    "version": 3
   },
   "file_extension": ".py",
   "mimetype": "text/x-python",
   "name": "python",
   "nbconvert_exporter": "python",
   "pygments_lexer": "ipython3",
   "version": "3.8.0"
  },
  "orig_nbformat": 4
 },
 "nbformat": 4,
 "nbformat_minor": 2
}
